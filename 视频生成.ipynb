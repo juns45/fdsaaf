{
 "cells": [
  {
   "cell_type": "code",
   "execution_count": 12,
   "id": "fe088885-ffaa-4c9c-8cb5-3882f9437008",
   "metadata": {},
   "outputs": [
    {
     "name": "stdout",
     "output_type": "stream",
     "text": [
      "VideoObject(id='841017321511929719216580388379791300', model='cogvideox', video_result=None, task_status='PROCESSING', request_id='9216580388379791299')\n"
     ]
    }
   ],
   "source": [
    "from zhipuai import ZhipuAI\n",
    "client = ZhipuAI(api_key=\"a04bfc16335bca53b8e81ef7d574ddbe.Q88JbxUdoYxAaV5l\")\n",
    "\n",
    "response = client.videos.generations(\n",
    "    model=\"cogvideox\",\n",
    "    prompt=\"一辆装满小猪的大巴从天上开到地里。\"\n",
    ")\n",
    "print(response)"
   ]
  },
  {
   "cell_type": "code",
   "execution_count": 16,
   "id": "cdd40dde-a6d9-4a76-bffa-cbb85fe95bcf",
   "metadata": {},
   "outputs": [
    {
     "name": "stdout",
     "output_type": "stream",
     "text": [
      "VideoObject(id=None, model='cogvideox', video_result=[VideoResult(url='https://aigc-files.bigmodel.cn/api/cogvideo/39871f50-a7aa-11ef-a354-628f45da38f5_0.mp4', cover_image_url='https://aigc-files.bigmodel.cn/api/cogvideo/39871f50-a7aa-11ef-a354-628f45da38f5_cover_0.jpeg')], task_status='SUCCESS', request_id='9216580388379791299')\n"
     ]
    }
   ],
   "source": [
    "from zhipuai import ZhipuAI\n",
    "client = ZhipuAI(api_key=\"a04bfc16335bca53b8e81ef7d574ddbe.Q88JbxUdoYxAaV5l\") # 请填写您自己的APIKey\n",
    "\n",
    "response = client.videos.retrieve_videos_result(\n",
    "    id=\"841017321511929719216580388379791300\"\n",
    ")\n",
    "print(response)"
   ]
  },
  {
   "cell_type": "code",
   "execution_count": null,
   "id": "45e1b21a-9764-4dc6-b36c-9939390ed4ba",
   "metadata": {},
   "outputs": [],
   "source": []
  }
 ],
 "metadata": {
  "kernelspec": {
   "display_name": "Python 3 (ipykernel)",
   "language": "python",
   "name": "python3"
  },
  "language_info": {
   "codemirror_mode": {
    "name": "ipython",
    "version": 3
   },
   "file_extension": ".py",
   "mimetype": "text/x-python",
   "name": "python",
   "nbconvert_exporter": "python",
   "pygments_lexer": "ipython3",
   "version": "3.9.13"
  }
 },
 "nbformat": 4,
 "nbformat_minor": 5
}
